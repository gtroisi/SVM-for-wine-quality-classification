{
 "cells": [
  {
   "cell_type": "markdown",
   "metadata": {},
   "source": [
    "# Machine Learning"
   ]
  },
  {
   "cell_type": "markdown",
   "metadata": {},
   "source": [
    "## Modulo 1 - Classificazione di un Dataset"
   ]
  },
  {
   "cell_type": "markdown",
   "metadata": {},
   "source": [
    "### Import dei moduli necessari"
   ]
  },
  {
   "cell_type": "code",
   "execution_count": 1,
   "metadata": {},
   "outputs": [],
   "source": [
    "import pandas as pd\n",
    "from matplotlib import pyplot as plt\n",
    "import numpy as np\n",
    "import csv, random\n",
    "from collections import Counter"
   ]
  },
  {
   "cell_type": "code",
   "execution_count": null,
   "metadata": {},
   "outputs": [],
   "source": [
    "print(\"Hello\")"
   ]
  },
  {
   "cell_type": "markdown",
   "metadata": {},
   "source": [
    "### Preparazione del dataset\n",
    "Il file ottenuto a seguito di analisi in Radatools non è leggibile direttamente da Cytoscape, pertanto il seguente codice crea un nuovo file ottimizzato per la lettura da parte di Cytoscape.\n",
    "\n",
    "- *\"Communities-unfixed.txt\"* è il file ottenuto dalla rimozione dell'intestazione del file **Communities-fb-pages.txt**.\n",
    "- *\"Nodes-paired.txt\"* è il file ottenuto dalla rimozione dell'intestazione del file **Links-fb-pages.net**.\n",
    "\n",
    "Dalla lettura del file delle comunità, si genera il file csv che lega l'id dello show con la comunità,"
   ]
  },
  {
   "cell_type": "code",
   "execution_count": 2,
   "metadata": {},
   "outputs": [],
   "source": [
    "with open(\"2-Output/2-radatools_prepared/Communities-unfixed.txt\") as file:\n",
    "    data = csv.reader(file)\n",
    "    comm_id = 1\n",
    "    comm_dict = dict()\n",
    "    \n",
    "    for comm in data:\n",
    "        splitted_row = comm[0].split(':')[1]\n",
    "        splitted_row = splitted_row.split(' ')[1:]\n",
    "        for node in splitted_row:\n",
    "            comm_dict[node] = comm_id\n",
    "        comm_id += 1\n",
    "\n",
    "with open(\"2-Output/3-py_elaborated/Communities-fixed.csv\", 'w') as file:\n",
    "    data = csv.writer(file)\n",
    "    data.writerow(['show_id', 'community'])\n",
    "    for v,k in comm_dict.items():\n",
    "        data.writerow([v,k])"
   ]
  },
  {
   "cell_type": "markdown",
   "metadata": {},
   "source": [
    "La corrispondenza degli ID è inoltre sfalsata a causa della diversa assegnazione degli ID da parte di *Radatools*, per cui è necessario prima di tutto allineare l'ID degli show televisivi originali con quelli modifciati e successivamente si applica alle comunità."
   ]
  },
  {
   "cell_type": "code",
   "execution_count": 3,
   "metadata": {},
   "outputs": [
    {
     "data": {
      "text/html": [
       "<div>\n",
       "<style scoped>\n",
       "    .dataframe tbody tr th:only-of-type {\n",
       "        vertical-align: middle;\n",
       "    }\n",
       "\n",
       "    .dataframe tbody tr th {\n",
       "        vertical-align: top;\n",
       "    }\n",
       "\n",
       "    .dataframe thead th {\n",
       "        text-align: right;\n",
       "    }\n",
       "</style>\n",
       "<table border=\"1\" class=\"dataframe\">\n",
       "  <thead>\n",
       "    <tr style=\"text-align: right;\">\n",
       "      <th></th>\n",
       "      <th>new_id</th>\n",
       "      <th>id</th>\n",
       "    </tr>\n",
       "  </thead>\n",
       "  <tbody>\n",
       "    <tr>\n",
       "      <th>0</th>\n",
       "      <td>1</td>\n",
       "      <td>0</td>\n",
       "    </tr>\n",
       "    <tr>\n",
       "      <th>1</th>\n",
       "      <td>2</td>\n",
       "      <td>1</td>\n",
       "    </tr>\n",
       "    <tr>\n",
       "      <th>2</th>\n",
       "      <td>3</td>\n",
       "      <td>2</td>\n",
       "    </tr>\n",
       "    <tr>\n",
       "      <th>3</th>\n",
       "      <td>4</td>\n",
       "      <td>3</td>\n",
       "    </tr>\n",
       "    <tr>\n",
       "      <th>4</th>\n",
       "      <td>5</td>\n",
       "      <td>4</td>\n",
       "    </tr>\n",
       "    <tr>\n",
       "      <th>...</th>\n",
       "      <td>...</td>\n",
       "      <td>...</td>\n",
       "    </tr>\n",
       "    <tr>\n",
       "      <th>3798</th>\n",
       "      <td>3799</td>\n",
       "      <td>3886</td>\n",
       "    </tr>\n",
       "    <tr>\n",
       "      <th>3799</th>\n",
       "      <td>3800</td>\n",
       "      <td>3887</td>\n",
       "    </tr>\n",
       "    <tr>\n",
       "      <th>3800</th>\n",
       "      <td>3801</td>\n",
       "      <td>3888</td>\n",
       "    </tr>\n",
       "    <tr>\n",
       "      <th>3801</th>\n",
       "      <td>3802</td>\n",
       "      <td>3889</td>\n",
       "    </tr>\n",
       "    <tr>\n",
       "      <th>3802</th>\n",
       "      <td>3803</td>\n",
       "      <td>3891</td>\n",
       "    </tr>\n",
       "  </tbody>\n",
       "</table>\n",
       "<p>3803 rows × 2 columns</p>\n",
       "</div>"
      ],
      "text/plain": [
       "      new_id    id\n",
       "0          1     0\n",
       "1          2     1\n",
       "2          3     2\n",
       "3          4     3\n",
       "4          5     4\n",
       "...      ...   ...\n",
       "3798    3799  3886\n",
       "3799    3800  3887\n",
       "3800    3801  3888\n",
       "3801    3802  3889\n",
       "3802    3803  3891\n",
       "\n",
       "[3803 rows x 2 columns]"
      ]
     },
     "execution_count": 3,
     "metadata": {},
     "output_type": "execute_result"
    }
   ],
   "source": [
    "with open(\"2-Output/3-py_elaborated/Communities-fixed.csv\") as file1:\n",
    "    with open(\"2-Output/2-radatools_prepared/Nodes-paired.txt\") as file2:\n",
    "        with open(\"2-Output/1-radatools_created/Nodes-fb-pages-tvshow.txt\") as file3:\n",
    "            comm_df = pd.read_csv(file1, header=0, sep=',')\n",
    "            ids_df  = pd.read_csv(file2, header=0, sep=' ')\n",
    "            tv_df   = pd.read_csv(file3, header=0, sep='\\t')\n",
    "\n",
    "tv_df_reindex = pd.merge(tv_df, ids_df, on=\"id\").drop('id', axis=1).rename(columns={'new_id': 'show_id'})\n",
    "comm_df_named = pd.merge(tv_df_reindex, comm_df, on=\"show_id\")\n",
    "\n",
    "comm_df_named\n",
    "ids_df"
   ]
  },
  {
   "cell_type": "markdown",
   "metadata": {},
   "source": [
    "Adesso, bisogna aggiungere i link al DataFrame, con l'attenzione che anche questi siano correttamente indicizzati."
   ]
  },
  {
   "cell_type": "code",
   "execution_count": 4,
   "metadata": {},
   "outputs": [],
   "source": [
    "with open(\"2-Output/1-radatools_created/Links-fb-pages-tvshow.txt\") as file:\n",
    "    link_df =  pd.read_csv(file, names = ['id_src', 'id_dest'], sep='\\t')\n",
    "link_df\n",
    "\n",
    "# Qui si separa il DataFrame in due Series per modificare gli ID di ciascuno\n",
    "src = pd.Series(link_df['id_src'].rename('id'))\n",
    "dest = pd.Series(link_df['id_dest'].rename('id'))\n",
    "\n",
    "src_reindex = []\n",
    "dest_reindex = []\n",
    "\n",
    "for row in src:\n",
    "    src_reindex.append(ids_df[ids_df['id'] == row]['new_id'].values)\n",
    "    dest_reindex.append(ids_df[ids_df['id'] == row]['new_id'].values)\n",
    "\n",
    "s = pd.Series(np.concatenate(src_reindex, axis=0), name = 'show_id')\n",
    "d = pd.Series(np.concatenate(dest_reindex, axis=0), name = 'link_to_id')\n",
    "\n",
    "# Quindi vengono riuniti in un DataFrame con gli ID modificati\n",
    "link_reindex = pd.concat([s,d], axis = 1)\n",
    "\n",
    "# Infine, si popola il DataFrame delle comunità\n",
    "comm_df_named_linked = pd.merge(link_reindex, comm_df_named, on=\"show_id\")\n",
    "comm_df_named_linked\n",
    "\n",
    "# E viene salvato in un file csv\n",
    "with open(\"2-Output/3-py_elaborated/Communities-with-names.csv\", 'w') as file:\n",
    "    comm_df_named_linked.to_csv(file)"
   ]
  },
  {
   "cell_type": "markdown",
   "metadata": {},
   "source": [
    "### Simulated Annealing\n",
    "Si implementa adesso il *simulated annealing* per la classificazione del dataset in **due** comunità.\n",
    "\n",
    "Si definiscono prima di tutto i parametri necessari per il calcolo della **modularità**."
   ]
  },
  {
   "cell_type": "code",
   "execution_count": 5,
   "metadata": {},
   "outputs": [],
   "source": [
    "net = link_reindex                                    # Rete (id source, id destination)\n",
    "net_unlisted =  list(link_reindex['show_id']) + \\\n",
    "                list(link_reindex['link_to_id'])\n",
    "nodes = sorted(set(net_unlisted))                     # Lista dei Nodi\n",
    "n = len(nodes)                                        # Numero di Nodi\n",
    "L = len(net)                                          # Numero di Link\n",
    "Ki = Counter(net_unlisted)                            # Grado di ogni vertice"
   ]
  },
  {
   "cell_type": "markdown",
   "metadata": {},
   "source": [
    "#### Calcolo della modularità"
   ]
  },
  {
   "cell_type": "markdown",
   "metadata": {},
   "source": [
    "Si crea un generatore di soluzioni random che assegna alla lista dei nodi la comunità 1 o 2."
   ]
  },
  {
   "cell_type": "code",
   "execution_count": 6,
   "metadata": {},
   "outputs": [],
   "source": [
    "random.seed(1)\n",
    "\n",
    "def calculate_solution(n):\n",
    "    return list(np.random.choice([1, 2], n, replace=True))"
   ]
  },
  {
   "cell_type": "markdown",
   "metadata": {},
   "source": [
    "Si crea inoltre una funzione per il calcolo della **modularità**."
   ]
  },
  {
   "cell_type": "code",
   "execution_count": 7,
   "metadata": {},
   "outputs": [],
   "source": [
    "def calculate_modularity(solution):\n",
    "    \n",
    "    # Applicazione della soluzione generata ai nodi (nel dataframe dei link)\n",
    "    links_between_comm = np.array([ [solution[net.iloc[i,0]-1], solution[net.iloc[i,1]-1]] for i in range(L) ])\n",
    "    \n",
    "    e = [ [i == link[0] & link[1] == i for link in links_between_comm].count(True) for i in [1,2] ]\n",
    "    er = [d/L for d in e]\n",
    "\n",
    "    # Calcolo del grado medio\n",
    "    a1 = 0\n",
    "    a2 = 0\n",
    "\n",
    "    for i in range(n):\n",
    "        node = i\n",
    "        comm = solution[i]\n",
    "\n",
    "        # Calcolo del grado di ogni comunità\n",
    "        if comm == 1:\n",
    "            a1 += Ki[node]\n",
    "        else:\n",
    "            a2 += Ki[node]\n",
    "\n",
    "    ar2 = [(d / (2 * L))**2 for d in [a1, a2]]\n",
    "    modularity = sum([er[i] - ar2[i] for i in [0,1]])\n",
    "\n",
    "    return modularity"
   ]
  },
  {
   "cell_type": "markdown",
   "metadata": {},
   "source": [
    "Si definisce infine una funzione che restituisce il valore della **Temperatura** ad ogni iterazione.\n",
    "\n",
    "Per farlo bisogna prima calcolare i valori estremi che deve assumere la temperatura, ovvero calcolando la modularità per un numero limitato di simulazioni (es. 200) e calcolando la media delle distanze della modularità."
   ]
  },
  {
   "cell_type": "code",
   "execution_count": 8,
   "metadata": {},
   "outputs": [],
   "source": [
    "# Numero di simulazioni per il calcolo della temperatura\n",
    "nSim = 200\n",
    "modularity_vec = [calculate_modularity(calculate_solution(n)) for i in range(nSim)]\n",
    "distance = [abs(modularity_vec[i] - modularity_vec[j]) for i in range(nSim-1) for j in range(i+1, nSim)]\n",
    "mean_modularity = np.mean(distance)\n",
    "\n",
    "# Valore iniziale e finale della Temperatura\n",
    "T0 = 100 * mean_modularity\n",
    "Tf = 0.01 * mean_modularity\n",
    "\n",
    "# Numero di simulazioni per il calcolo della modularità\n",
    "nSim = 1000\n",
    "\n",
    "A = T0\n",
    "B = np.log(Tf / A) / nSim\n",
    "def Temp(n):\n",
    "    return A * np.exp(B * (n + 1))"
   ]
  },
  {
   "cell_type": "markdown",
   "metadata": {},
   "source": [
    "Si inizializzano la soluzione e la modularità di partenza.\n",
    "\n",
    "Si procede quindi all'iterazione per un numero di simulazioni pari a ***nSim***."
   ]
  },
  {
   "cell_type": "code",
   "execution_count": 9,
   "metadata": {},
   "outputs": [
    {
     "name": "stdout",
     "output_type": "stream",
     "text": [
      "Percentage:\t 0.5% (# 5/1000)\n",
      "Percentage:\t 1.0% (# 10/1000)\n",
      "Percentage:\t 1.5% (# 15/1000)\n",
      "Percentage:\t 2.0% (# 20/1000)\n",
      "Percentage:\t 2.5% (# 25/1000)\n",
      "Percentage:\t 3.0% (# 30/1000)\n",
      "Percentage:\t 3.5% (# 35/1000)\n",
      "Percentage:\t 4.0% (# 40/1000)\n",
      "Percentage:\t 4.5% (# 45/1000)\n",
      "Percentage:\t 5.0% (# 50/1000)\n",
      "Percentage:\t 5.5% (# 55/1000)\n",
      "Percentage:\t 6.0% (# 60/1000)\n",
      "Percentage:\t 6.5% (# 65/1000)\n",
      "Percentage:\t 7.0% (# 70/1000)\n",
      "Percentage:\t 7.5% (# 75/1000)\n",
      "Percentage:\t 8.0% (# 80/1000)\n",
      "Percentage:\t 8.5% (# 85/1000)\n",
      "Percentage:\t 9.0% (# 90/1000)\n",
      "Percentage:\t 9.5% (# 95/1000)\n",
      "Percentage:\t 10.0% (# 100/1000)\n",
      "Percentage:\t 10.5% (# 105/1000)\n",
      "Percentage:\t 11.0% (# 110/1000)\n",
      "Percentage:\t 11.5% (# 115/1000)\n",
      "Percentage:\t 12.0% (# 120/1000)\n",
      "Percentage:\t 12.5% (# 125/1000)\n",
      "Percentage:\t 13.0% (# 130/1000)\n",
      "Percentage:\t 13.5% (# 135/1000)\n",
      "Percentage:\t 14.0% (# 140/1000)\n",
      "Percentage:\t 14.5% (# 145/1000)\n",
      "Percentage:\t 15.0% (# 150/1000)\n",
      "Percentage:\t 15.5% (# 155/1000)\n",
      "Percentage:\t 16.0% (# 160/1000)\n",
      "Percentage:\t 16.5% (# 165/1000)\n",
      "Percentage:\t 17.0% (# 170/1000)\n",
      "Percentage:\t 17.5% (# 175/1000)\n",
      "Percentage:\t 18.0% (# 180/1000)\n",
      "Percentage:\t 18.5% (# 185/1000)\n",
      "Percentage:\t 19.0% (# 190/1000)\n",
      "Percentage:\t 19.5% (# 195/1000)\n",
      "Percentage:\t 20.0% (# 200/1000)\n",
      "Percentage:\t 20.5% (# 205/1000)\n",
      "Percentage:\t 21.0% (# 210/1000)\n",
      "Percentage:\t 21.5% (# 215/1000)\n",
      "Percentage:\t 22.0% (# 220/1000)\n",
      "Percentage:\t 22.5% (# 225/1000)\n",
      "Percentage:\t 23.0% (# 230/1000)\n",
      "Percentage:\t 23.5% (# 235/1000)\n",
      "Percentage:\t 24.0% (# 240/1000)\n",
      "Percentage:\t 24.5% (# 245/1000)\n",
      "Percentage:\t 25.0% (# 250/1000)\n",
      "Percentage:\t 25.5% (# 255/1000)\n",
      "Percentage:\t 26.0% (# 260/1000)\n",
      "Percentage:\t 26.5% (# 265/1000)\n",
      "Percentage:\t 27.0% (# 270/1000)\n",
      "Percentage:\t 27.5% (# 275/1000)\n",
      "Percentage:\t 28.0% (# 280/1000)\n",
      "Percentage:\t 28.5% (# 285/1000)\n",
      "Percentage:\t 29.0% (# 290/1000)\n",
      "Percentage:\t 29.5% (# 295/1000)\n",
      "Percentage:\t 30.0% (# 300/1000)\n",
      "Percentage:\t 30.5% (# 305/1000)\n",
      "Percentage:\t 31.0% (# 310/1000)\n",
      "Percentage:\t 31.5% (# 315/1000)\n",
      "Percentage:\t 32.0% (# 320/1000)\n",
      "Percentage:\t 32.5% (# 325/1000)\n",
      "Percentage:\t 33.0% (# 330/1000)\n",
      "Percentage:\t 33.5% (# 335/1000)\n",
      "Percentage:\t 34.0% (# 340/1000)\n",
      "Percentage:\t 34.5% (# 345/1000)\n",
      "Percentage:\t 35.0% (# 350/1000)\n",
      "Percentage:\t 35.5% (# 355/1000)\n",
      "Percentage:\t 36.0% (# 360/1000)\n",
      "Percentage:\t 36.5% (# 365/1000)\n",
      "Percentage:\t 37.0% (# 370/1000)\n",
      "Percentage:\t 37.5% (# 375/1000)\n",
      "Percentage:\t 38.0% (# 380/1000)\n",
      "Percentage:\t 38.5% (# 385/1000)\n",
      "Percentage:\t 39.0% (# 390/1000)\n",
      "Percentage:\t 39.5% (# 395/1000)\n",
      "Percentage:\t 40.0% (# 400/1000)\n",
      "Percentage:\t 40.5% (# 405/1000)\n",
      "Percentage:\t 41.0% (# 410/1000)\n",
      "Percentage:\t 41.5% (# 415/1000)\n",
      "Percentage:\t 42.0% (# 420/1000)\n",
      "Percentage:\t 42.5% (# 425/1000)\n",
      "Percentage:\t 43.0% (# 430/1000)\n",
      "Percentage:\t 43.5% (# 435/1000)\n",
      "Percentage:\t 44.0% (# 440/1000)\n",
      "Percentage:\t 44.5% (# 445/1000)\n",
      "Percentage:\t 45.0% (# 450/1000)\n",
      "Percentage:\t 45.5% (# 455/1000)\n",
      "Percentage:\t 46.0% (# 460/1000)\n",
      "Percentage:\t 46.5% (# 465/1000)\n",
      "Percentage:\t 47.0% (# 470/1000)\n",
      "Percentage:\t 47.5% (# 475/1000)\n",
      "Percentage:\t 48.0% (# 480/1000)\n",
      "Percentage:\t 48.5% (# 485/1000)\n",
      "Percentage:\t 49.0% (# 490/1000)\n",
      "Percentage:\t 49.5% (# 495/1000)\n",
      "Percentage:\t 50.0% (# 500/1000)\n",
      "Percentage:\t 50.5% (# 505/1000)\n",
      "Percentage:\t 51.0% (# 510/1000)\n",
      "Percentage:\t 51.5% (# 515/1000)\n",
      "Percentage:\t 52.0% (# 520/1000)\n",
      "Percentage:\t 52.5% (# 525/1000)\n",
      "Percentage:\t 53.0% (# 530/1000)\n",
      "Percentage:\t 53.5% (# 535/1000)\n",
      "Percentage:\t 54.0% (# 540/1000)\n",
      "Percentage:\t 54.5% (# 545/1000)\n",
      "Percentage:\t 55.0% (# 550/1000)\n",
      "Percentage:\t 55.5% (# 555/1000)\n",
      "Percentage:\t 56.0% (# 560/1000)\n",
      "Percentage:\t 56.5% (# 565/1000)\n",
      "Percentage:\t 57.0% (# 570/1000)\n",
      "Percentage:\t 57.5% (# 575/1000)\n",
      "Percentage:\t 58.0% (# 580/1000)\n",
      "Percentage:\t 58.5% (# 585/1000)\n",
      "Percentage:\t 59.0% (# 590/1000)\n",
      "Percentage:\t 59.5% (# 595/1000)\n",
      "Percentage:\t 60.0% (# 600/1000)\n",
      "Percentage:\t 60.5% (# 605/1000)\n",
      "Percentage:\t 61.0% (# 610/1000)\n",
      "Percentage:\t 61.5% (# 615/1000)\n",
      "Percentage:\t 62.0% (# 620/1000)\n",
      "Percentage:\t 62.5% (# 625/1000)\n",
      "Percentage:\t 63.0% (# 630/1000)\n",
      "Percentage:\t 63.5% (# 635/1000)\n",
      "Percentage:\t 64.0% (# 640/1000)\n",
      "Percentage:\t 64.5% (# 645/1000)\n",
      "Percentage:\t 65.0% (# 650/1000)\n",
      "Percentage:\t 65.5% (# 655/1000)\n",
      "Percentage:\t 66.0% (# 660/1000)\n",
      "Percentage:\t 66.5% (# 665/1000)\n",
      "Percentage:\t 67.0% (# 670/1000)\n",
      "Percentage:\t 67.5% (# 675/1000)\n",
      "Percentage:\t 68.0% (# 680/1000)\n",
      "Percentage:\t 68.5% (# 685/1000)\n",
      "Percentage:\t 69.0% (# 690/1000)\n",
      "Percentage:\t 69.5% (# 695/1000)\n",
      "Percentage:\t 70.0% (# 700/1000)\n",
      "Percentage:\t 70.5% (# 705/1000)\n",
      "Percentage:\t 71.0% (# 710/1000)\n",
      "Percentage:\t 71.5% (# 715/1000)\n",
      "Percentage:\t 72.0% (# 720/1000)\n",
      "Percentage:\t 72.5% (# 725/1000)\n",
      "Percentage:\t 73.0% (# 730/1000)\n",
      "Percentage:\t 73.5% (# 735/1000)\n",
      "Percentage:\t 74.0% (# 740/1000)\n",
      "Percentage:\t 74.5% (# 745/1000)\n",
      "Percentage:\t 75.0% (# 750/1000)\n",
      "Percentage:\t 75.5% (# 755/1000)\n",
      "Percentage:\t 76.0% (# 760/1000)\n",
      "Percentage:\t 76.5% (# 765/1000)\n",
      "Percentage:\t 77.0% (# 770/1000)\n",
      "Percentage:\t 77.5% (# 775/1000)\n",
      "Percentage:\t 78.0% (# 780/1000)\n",
      "Percentage:\t 78.5% (# 785/1000)\n",
      "Percentage:\t 79.0% (# 790/1000)\n",
      "Percentage:\t 79.5% (# 795/1000)\n",
      "Percentage:\t 80.0% (# 800/1000)\n",
      "Percentage:\t 80.5% (# 805/1000)\n",
      "Percentage:\t 81.0% (# 810/1000)\n",
      "Percentage:\t 81.5% (# 815/1000)\n",
      "Percentage:\t 82.0% (# 820/1000)\n",
      "Percentage:\t 82.5% (# 825/1000)\n",
      "Percentage:\t 83.0% (# 830/1000)\n",
      "Percentage:\t 83.5% (# 835/1000)\n",
      "Percentage:\t 84.0% (# 840/1000)\n",
      "Percentage:\t 84.5% (# 845/1000)\n",
      "Percentage:\t 85.0% (# 850/1000)\n",
      "Percentage:\t 85.5% (# 855/1000)\n",
      "Percentage:\t 86.0% (# 860/1000)\n",
      "Percentage:\t 86.5% (# 865/1000)\n",
      "Percentage:\t 87.0% (# 870/1000)\n",
      "Percentage:\t 87.5% (# 875/1000)\n",
      "Percentage:\t 88.0% (# 880/1000)\n",
      "Percentage:\t 88.5% (# 885/1000)\n",
      "Percentage:\t 89.0% (# 890/1000)\n",
      "Percentage:\t 89.5% (# 895/1000)\n",
      "Percentage:\t 90.0% (# 900/1000)\n",
      "Percentage:\t 90.5% (# 905/1000)\n",
      "Percentage:\t 91.0% (# 910/1000)\n",
      "Percentage:\t 91.5% (# 915/1000)\n",
      "Percentage:\t 92.0% (# 920/1000)\n",
      "Percentage:\t 92.5% (# 925/1000)\n",
      "Percentage:\t 93.0% (# 930/1000)\n",
      "Percentage:\t 93.5% (# 935/1000)\n",
      "Percentage:\t 94.0% (# 940/1000)\n",
      "Percentage:\t 94.5% (# 945/1000)\n",
      "Percentage:\t 95.0% (# 950/1000)\n",
      "Percentage:\t 95.5% (# 955/1000)\n",
      "Percentage:\t 96.0% (# 960/1000)\n",
      "Percentage:\t 96.5% (# 965/1000)\n",
      "Percentage:\t 97.0% (# 970/1000)\n",
      "Percentage:\t 97.5% (# 975/1000)\n",
      "Percentage:\t 98.0% (# 980/1000)\n",
      "Percentage:\t 98.5% (# 985/1000)\n",
      "Percentage:\t 99.0% (# 990/1000)\n",
      "Percentage:\t 99.5% (# 995/1000)\n"
     ]
    }
   ],
   "source": [
    "sol = calculate_solution(n)\n",
    "modularityBest = calculate_modularity(sol)\n",
    "modularities = [modularityBest]\n",
    "\n",
    "for t in range(nSim):\n",
    "    if t in range(-1,999,5):\n",
    "        perc = round(((t+1)/nSim*100),2)\n",
    "        print(f'Percentage:\\t {perc}% (# {t+1}/{nSim})')\n",
    "    \n",
    "    solNew = calculate_solution(n)\n",
    "    modNew = calculate_modularity(solNew)\n",
    "\n",
    "    if modNew > modularityBest:\n",
    "        sol = solNew\n",
    "        modularityBest = modNew\n",
    "    else:\n",
    "        diff = modularityBest - modNew\n",
    "        p = np.exp(-diff / Temp(t))\n",
    "        randNum = np.random.uniform()\n",
    "        if randNum <= p:\n",
    "            sol = solNew\n",
    "            modularityBest = modNew\n",
    "    modularities.append(modularityBest)"
   ]
  },
  {
   "cell_type": "markdown",
   "metadata": {},
   "source": [
    "Visualizzazione della modularità."
   ]
  },
  {
   "cell_type": "code",
   "execution_count": 10,
   "metadata": {},
   "outputs": [
    {
     "name": "stdout",
     "output_type": "stream",
     "text": [
      "Best modularity found is: \t 0.0132\n"
     ]
    }
   ],
   "source": [
    "print(f'Best modularity found is: \\t {round(modularityBest,4)}')"
   ]
  },
  {
   "cell_type": "code",
   "execution_count": 11,
   "metadata": {},
   "outputs": [
    {
     "data": {
      "image/png": "[encoded data removed]",
      "text/plain": [
       "<Figure size 1008x504 with 1 Axes>"
      ]
     },
     "metadata": {
      "needs_background": "light"
     },
     "output_type": "display_data"
    }
   ],
   "source": [
    "fig = plt.figure(figsize = (14,7))\n",
    "plt.plot(modularities)\n",
    "plt.title('Simulated Annealing Results\\n', fontdict={'fontsize': 16})\n",
    "plt.xlabel('Number of Iterations')\n",
    "plt.ylabel('Q')\n",
    "plt.grid()\n",
    "plt.savefig(\"2-Output/3-py_elaborated/Simulated Annealing.png\", format='png')"
   ]
  },
  {
   "cell_type": "markdown",
   "metadata": {},
   "source": [
    "#### Salvataggio del Linkset finale"
   ]
  },
  {
   "cell_type": "code",
   "execution_count": 12,
   "metadata": {},
   "outputs": [
    {
     "data": {
      "text/html": [
       "<div>\n",
       "<style scoped>\n",
       "    .dataframe tbody tr th:only-of-type {\n",
       "        vertical-align: middle;\n",
       "    }\n",
       "\n",
       "    .dataframe tbody tr th {\n",
       "        vertical-align: top;\n",
       "    }\n",
       "\n",
       "    .dataframe thead th {\n",
       "        text-align: right;\n",
       "    }\n",
       "</style>\n",
       "<table border=\"1\" class=\"dataframe\">\n",
       "  <thead>\n",
       "    <tr style=\"text-align: right;\">\n",
       "      <th></th>\n",
       "      <th>show_id</th>\n",
       "      <th>link_to_id</th>\n",
       "      <th>community</th>\n",
       "    </tr>\n",
       "  </thead>\n",
       "  <tbody>\n",
       "    <tr>\n",
       "      <th>0</th>\n",
       "      <td>1</td>\n",
       "      <td>1824</td>\n",
       "      <td>1</td>\n",
       "    </tr>\n",
       "    <tr>\n",
       "      <th>1</th>\n",
       "      <td>1</td>\n",
       "      <td>1731</td>\n",
       "      <td>1</td>\n",
       "    </tr>\n",
       "    <tr>\n",
       "      <th>2</th>\n",
       "      <td>1</td>\n",
       "      <td>15</td>\n",
       "      <td>1</td>\n",
       "    </tr>\n",
       "    <tr>\n",
       "      <th>3</th>\n",
       "      <td>1</td>\n",
       "      <td>2516</td>\n",
       "      <td>1</td>\n",
       "    </tr>\n",
       "    <tr>\n",
       "      <th>4</th>\n",
       "      <td>2</td>\n",
       "      <td>1001</td>\n",
       "      <td>1</td>\n",
       "    </tr>\n",
       "    <tr>\n",
       "      <th>...</th>\n",
       "      <td>...</td>\n",
       "      <td>...</td>\n",
       "      <td>...</td>\n",
       "    </tr>\n",
       "    <tr>\n",
       "      <th>17257</th>\n",
       "      <td>3744</td>\n",
       "      <td>3761</td>\n",
       "      <td>2</td>\n",
       "    </tr>\n",
       "    <tr>\n",
       "      <th>17258</th>\n",
       "      <td>3748</td>\n",
       "      <td>3760</td>\n",
       "      <td>1</td>\n",
       "    </tr>\n",
       "    <tr>\n",
       "      <th>17259</th>\n",
       "      <td>1231</td>\n",
       "      <td>125</td>\n",
       "      <td>2</td>\n",
       "    </tr>\n",
       "    <tr>\n",
       "      <th>17260</th>\n",
       "      <td>3790</td>\n",
       "      <td>3798</td>\n",
       "      <td>2</td>\n",
       "    </tr>\n",
       "    <tr>\n",
       "      <th>17261</th>\n",
       "      <td>3793</td>\n",
       "      <td>3799</td>\n",
       "      <td>1</td>\n",
       "    </tr>\n",
       "  </tbody>\n",
       "</table>\n",
       "<p>17262 rows × 3 columns</p>\n",
       "</div>"
      ],
      "text/plain": [
       "       show_id  link_to_id  community\n",
       "0            1        1824          1\n",
       "1            1        1731          1\n",
       "2            1          15          1\n",
       "3            1        2516          1\n",
       "4            2        1001          1\n",
       "...        ...         ...        ...\n",
       "17257     3744        3761          2\n",
       "17258     3748        3760          1\n",
       "17259     1231         125          2\n",
       "17260     3790        3798          2\n",
       "17261     3793        3799          1\n",
       "\n",
       "[17262 rows x 3 columns]"
      ]
     },
     "execution_count": 12,
     "metadata": {},
     "output_type": "execute_result"
    }
   ],
   "source": [
    "solBest = sol                                                                               # Questa è la soluzione ottenuta all'ultimo step del simulated annealing\n",
    "linksBest = link_reindex                                                                    # Si inizializza il linkset definitivo a partire dall'ultimo linkset\n",
    "\n",
    "linksBest['community'] = [solBest[i-1] for i in link_reindex['show_id']]                    # La soluzione è quindi applicata al Linkset\n",
    "\n",
    "with open(\"2-Output/3-py_elaborated/Linkset-simulated-annealing.csv\", 'w') as file:         # Il linkset è infine esportato in CSV per Cytoscape\n",
    "    linksBest.to_csv(file)\n",
    "\n",
    "linksBest"
   ]
  },
  {
   "cell_type": "markdown",
   "metadata": {},
   "source": [
    "### Conclusioni"
   ]
  },
  {
   "cell_type": "markdown",
   "metadata": {},
   "source": [
    "Si riporta qui la serie di operazioni per valutare la bontà delle due classificazioni: la prima ottenuta con *Radatools* e la seconda con il *Simulated Annealing*."
   ]
  },
  {
   "cell_type": "code",
   "execution_count": 16,
   "metadata": {},
   "outputs": [
    {
     "name": "stdout",
     "output_type": "stream",
     "text": [
      "Il numero totale delle 482 comunità che si trovano condivise tra la comunità 1 e 2 è pari a 0/482 (0.0%)\n"
     ]
    }
   ],
   "source": [
    "linksBest = linksBest.rename(columns = {'community':'community_SA'})\n",
    "communityComparison = pd.merge(linksBest, comm_df_named_linked, on=\"show_id\").drop_duplicates()\n",
    "\n",
    "# Si raccolgono le 482 comunità in due liste (una per ognuna delle due comunità)\n",
    "comm1 = communityComparison[communityComparison['community_SA'] == 1]['community']\n",
    "comm2 = communityComparison[communityComparison['community_SA'] == 2]['community']\n",
    "\n",
    "# Si verifica adesso quante comunità si trovano in entrambe le comunità\n",
    "shared_comm = [i for i in comm1 if i in comm2]\n",
    "\n",
    "print(f'Il numero totale delle 482 comunità che si trovano condivise tra la comunità 1 e 2 è pari a {len(shared_comm)}/482 ({round((len(shared_comm)*100/482),2)}%)')\n"
   ]
  }
 ],
 "metadata": {
  "interpreter": {
   "hash": "3c0b2fa562573118c3de7de9c9800a96888af10f1d8738881bd676673dfcc03a"
  },
  "kernelspec": {
   "display_name": "Python 3.8.5 64-bit ('base': conda)",
   "name": "python3"
  },
  "language_info": {
   "codemirror_mode": {
    "name": "ipython",
    "version": 3
   },
   "file_extension": ".py",
   "mimetype": "text/x-python",
   "name": "python",
   "nbconvert_exporter": "python",
   "pygments_lexer": "ipython3",
   "version": "3.8.5"
  },
  "orig_nbformat": 4
 },
 "nbformat": 4,
 "nbformat_minor": 2
}
